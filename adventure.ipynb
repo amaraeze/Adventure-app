{
 "cells": [
  {
   "cell_type": "code",
   "execution_count": 2,
   "metadata": {},
   "outputs": [
    {
     "name": "stdout",
     "output_type": "stream",
     "text": [
      "Type your name: Jollybabe\n",
      "Welcome Jollybabe to this adventure!\n"
     ]
    }
   ],
   "source": [
    "name = input(\"Type your name: \")\n",
    "print(\"Welcome\", name, \"to this adventure!\")"
   ]
  },
  {
   "cell_type": "code",
   "execution_count": 9,
   "metadata": {},
   "outputs": [
    {
     "name": "stdout",
     "output_type": "stream",
     "text": [
      "You are on a dirt road, it has come to an end and you can go left or right. Which way would you like to go? left\n"
     ]
    }
   ],
   "source": [
    "answer = input(\n",
    "    \"You are on a dirt road, it has come to an end and you can go left or right. Which way would you like to go? \").lower()"
   ]
  },
  {
   "cell_type": "code",
   "execution_count": 11,
   "metadata": {},
   "outputs": [],
   "source": [
    "if answer == \"left\":\n",
    "    answer = input(\"Yor are heading left, do you want to swim, yes/no. \")\n",
    "    if answer== 'yes':\n",
    "        print('Welcome to Nguru river')\n",
    "    elif answer== 'no':\n",
    "        print('head back and follow the road on your right')\n",
    "    else:\n",
    "        print('what exactly do you want?')\n",
    "elif answer ==\"right\":\n",
    "    "
   ]
  },
  {
   "cell_type": "code",
   "execution_count": null,
   "metadata": {},
   "outputs": [],
   "source": []
  }
 ],
 "metadata": {
  "kernelspec": {
   "display_name": "Python 3",
   "language": "python",
   "name": "python3"
  }
 },
 "nbformat": 4,
 "nbformat_minor": 4
}
